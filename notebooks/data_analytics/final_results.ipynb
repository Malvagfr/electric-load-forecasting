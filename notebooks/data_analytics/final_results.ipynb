{
 "cells": [
  {
   "cell_type": "markdown",
   "id": "6d5b40c0",
   "metadata": {},
   "source": [
    "# FINAL RESULTS"
   ]
  },
  {
   "cell_type": "markdown",
   "id": "acf3e3dd",
   "metadata": {},
   "source": [
    "## Libraries import"
   ]
  },
  {
   "cell_type": "code",
   "execution_count": 23,
   "id": "535189bf",
   "metadata": {},
   "outputs": [],
   "source": [
    "# Ignore warnings\n",
    "import warnings\n",
    "warnings.filterwarnings('ignore')\n",
    "\n",
    "# Libraries Imports\n",
    "import numpy as np\n",
    "import pandas as pd\n",
    "import seaborn as sns\n",
    "import matplotlib.pyplot as plt\n",
    "%matplotlib inline\n",
    "\n",
    "# error\n",
    "from sklearn.metrics import mean_squared_error,r2_score,mean_absolute_error"
   ]
  },
  {
   "cell_type": "markdown",
   "id": "97b4e131",
   "metadata": {},
   "source": [
    "## Functions definition"
   ]
  },
  {
   "cell_type": "code",
   "execution_count": 24,
   "id": "041e844b",
   "metadata": {},
   "outputs": [],
   "source": [
    "# Read csv\n",
    "def read_csv(path):\n",
    "    return pd.read_csv(path)"
   ]
  },
  {
   "cell_type": "code",
   "execution_count": 25,
   "id": "3b82cc61",
   "metadata": {},
   "outputs": [],
   "source": [
    "# Drop columns\n",
    "def drop_columns(df,columns):\n",
    "    return df.drop(columns, 1) "
   ]
  },
  {
   "cell_type": "markdown",
   "id": "1a8d3f33",
   "metadata": {},
   "source": [
    "## Analysis"
   ]
  },
  {
   "cell_type": "code",
   "execution_count": 26,
   "id": "af3fb4be",
   "metadata": {},
   "outputs": [],
   "source": [
    "df_final_results=read_csv(\"../../data/final_results/final_results.csv\")\n",
    "df_final_results=drop_columns(df_final_results,'Unnamed: 0')"
   ]
  },
  {
   "cell_type": "code",
   "execution_count": 27,
   "id": "946fbc64",
   "metadata": {},
   "outputs": [],
   "source": [
    "df_final_results['error']=df_final_results['Demand_MWh']-df_final_results['Forecast']"
   ]
  },
  {
   "cell_type": "code",
   "execution_count": null,
   "id": "f8dacde4",
   "metadata": {},
   "outputs": [],
   "source": [
    "sns.regplot(x=df_final_results.index, y=\"error\", data=df_final_results)"
   ]
  }
 ],
 "metadata": {
  "kernelspec": {
   "display_name": "Python [conda env:final-project]",
   "language": "python",
   "name": "conda-env-final-project-py"
  },
  "language_info": {
   "codemirror_mode": {
    "name": "ipython",
    "version": 3
   },
   "file_extension": ".py",
   "mimetype": "text/x-python",
   "name": "python",
   "nbconvert_exporter": "python",
   "pygments_lexer": "ipython3",
   "version": "3.7.11"
  }
 },
 "nbformat": 4,
 "nbformat_minor": 5
}
