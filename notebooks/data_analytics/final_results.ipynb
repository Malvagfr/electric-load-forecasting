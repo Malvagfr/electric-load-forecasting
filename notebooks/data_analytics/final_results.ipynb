{
 "cells": [
  {
   "cell_type": "markdown",
   "id": "6d5b40c0",
   "metadata": {},
   "source": [
    "# FINAL RESULTS"
   ]
  },
  {
   "cell_type": "markdown",
   "id": "acf3e3dd",
   "metadata": {},
   "source": [
    "## Libraries import"
   ]
  },
  {
   "cell_type": "code",
   "execution_count": 1,
   "id": "535189bf",
   "metadata": {},
   "outputs": [],
   "source": [
    "# Ignore warnings\n",
    "import warnings\n",
    "warnings.filterwarnings('ignore')\n",
    "\n",
    "# Libraries Imports\n",
    "import numpy as np\n",
    "import pandas as pd\n",
    "import seaborn as sns\n",
    "import matplotlib.pyplot as plt\n",
    "%matplotlib inline\n",
    "\n",
    "# error\n",
    "from sklearn.metrics import mean_squared_error,r2_score,mean_absolute_error"
   ]
  },
  {
   "cell_type": "markdown",
   "id": "97b4e131",
   "metadata": {},
   "source": [
    "## Functions definition"
   ]
  },
  {
   "cell_type": "code",
   "execution_count": 2,
   "id": "041e844b",
   "metadata": {},
   "outputs": [],
   "source": [
    "# Read csv\n",
    "def read_csv(path):\n",
    "    return pd.read_csv(path)"
   ]
  },
  {
   "cell_type": "code",
   "execution_count": 3,
   "id": "3b82cc61",
   "metadata": {},
   "outputs": [],
   "source": [
    "# Drop columns\n",
    "def drop_columns(df,columns):\n",
    "    return df.drop(columns, 1) "
   ]
  },
  {
   "cell_type": "code",
   "execution_count": 10,
   "id": "2bc7b696",
   "metadata": {},
   "outputs": [],
   "source": [
    "# Change date format\n",
    "def date_format(column,date_format):\n",
    "    return pd.to_datetime(column,format=date_format)"
   ]
  },
  {
   "cell_type": "code",
   "execution_count": 13,
   "id": "37739ff4",
   "metadata": {},
   "outputs": [],
   "source": [
    "# Join data\n",
    "def join_data(df_left,df_right,link_fields,link_type):\n",
    "    return pd.merge(df_left,df_right,on=link_fields,how=link_type)"
   ]
  },
  {
   "cell_type": "code",
   "execution_count": 14,
   "id": "0b171d37",
   "metadata": {},
   "outputs": [],
   "source": [
    "# Feature engineering\n",
    "\n",
    "def craft_features(df,calendar_features=True,laglead_calendar_features=True,laglead_temperature=True,\n",
    "                  roll_temperature=True,daily_temp_features=True):\n",
    "    # Calendar features\n",
    "    if calendar_features:\n",
    "        df[\"Week_day\"]=df.Time.dt.day_name().astype('category').cat.codes\n",
    "        df['Week_day_category']=np.where(df[\"Time\"].dt.dayofweek>4,'Weekend','Week')\n",
    "        df['Week_day_category']=df['Week_day_category'].astype('category').cat.codes\n",
    "        df[\"Bank_Holiday_Weight\"]=df[\"Country_Bank_Holiday\"]+df[\"Partial_Bank_Holiday_Weight\"]\n",
    "\n",
    "        # Laglead calendar features\n",
    "        if laglead_calendar_features:\n",
    "            df[\"Bank_Holiday_Weight_p24\"]=df[\"Bank_Holiday_Weight\"].shift(24)\n",
    "            df[\"Bank_Holiday_Weight_n24\"]=df[\"Bank_Holiday_Weight\"].shift(-24)\n",
    "            df[\"Bank_Holiday_Weight_p168\"]=df[\"Bank_Holiday_Weight\"].shift(168)\n",
    "            df[\"Week_day_category_p24\"]=df[\"Week_day_category\"].shift(24)\n",
    "            df[\"Week_day_category_n24\"]=df[\"Week_day_category\"].shift(-24)\n",
    "\n",
    "    # Laglead Temperature \n",
    "    if laglead_temperature:\n",
    "            df[\"Temp_K_p1\"]=df[\"Temp_K\"].shift(1)     \n",
    "            df[\"Temp_K_p2\"]=df[\"Temp_K\"].shift(2)  \n",
    "\n",
    "            df[\"Temp_K_n1\"]=df[\"Temp_K\"].shift(-1)     \n",
    "            df[\"Temp_K_n2\"]=df[\"Temp_K\"].shift(-2)  \n",
    "\n",
    "            df[\"Temp_K_p24\"]=df[\"Temp_K\"].shift(24)       \n",
    "            df[\"Temp_K_p48\"]=df[\"Temp_K\"].shift(48)        \n",
    "            df[\"Temp_K_p72\"]=df[\"Temp_K\"].shift(72)               \n",
    "            df[\"Temp_K_p96\"]=df[\"Temp_K\"].shift(96)\n",
    "            df[\"Temp_K_p120\"]=df[\"Temp_K\"].shift(120)\n",
    "            df[\"Temp_K_p144\"]=df[\"Temp_K\"].shift(144)\n",
    "            df[\"Temp_K_p168\"]=df[\"Temp_K\"].shift(168)\n",
    "\n",
    "    # Rolling Statistical values\n",
    "    if roll_temperature:\n",
    "        df['Temp_K_SMA3']=df['Temp_K'].rolling(3,center=True).mean()\n",
    "        df['Temp_K_SMA5']=df['Temp_K'].rolling(5,center=True).mean()\n",
    "        df['Temp_K_SMA12']=df['Temp_K'].rolling(12,center=True).mean()\n",
    "\n",
    "        df['Temp_K_SD3']=df['Temp_K'].rolling(3,center=True).std()\n",
    "        df['Temp_K_SD5']=df['Temp_K'].rolling(5,center=True).std()\n",
    "        df['Temp_K_SD12']=df['Temp_K'].rolling(12,center=True).std()\n",
    "\n",
    "    # Statistical values by day\n",
    "    if daily_temp_features:\n",
    "        df_daily_temp=df.groupby(['Date'],as_index=False)\\\n",
    "        .agg(Daily_Temp_K_mean=('Temp_K', 'mean'),\n",
    "             Daily_Temp_K_std=('Temp_K','std'),\n",
    "             Daily_Temp_K_min=('Temp_K','min'),\n",
    "             Daily_Temp_K_max=('Temp_K','min')\n",
    "            )\n",
    "        df=join_data(df,df_daily_temp,'Date','left')\n",
    "\n",
    "        if laglead_temperature:\n",
    "            df_dailylag_temp=df.groupby(['Date'],as_index=False)\\\n",
    "            .agg(Daily_Temp_K_p24_mean=('Temp_K_p24', 'mean'),\n",
    "                 Daily_Temp_K_p24_std=('Temp_K_p24','std'),\n",
    "                 Daily_Temp_K_p24_min=('Temp_K_p24','min'),\n",
    "                 Daily_Temp_K_p24_max=('Temp_K_p24','min'),\n",
    "                 Daily_Temp_K_p168_mean=('Temp_K_p168', 'mean'),\n",
    "                 Daily_Temp_K_p168_std=('Temp_K_p168','std'),\n",
    "                 Daily_Temp_K_p168_min=('Temp_K_p168','min'),\n",
    "                 Daily_Temp_K_p168_max=('Temp_K_p168','min')\n",
    "            )\n",
    "            df=join_data(df,df_dailylag_temp,'Date','left')        \n",
    "\n",
    "    df=drop_columns(df,['Country_Bank_Holiday','Partial_Bank_Holiday','Partial_Bank_Holiday_Weight','Date',\n",
    "                       'Year','Day'])\n",
    "    df=df.dropna()\n",
    "    return df"
   ]
  },
  {
   "cell_type": "markdown",
   "id": "0461c350",
   "metadata": {},
   "source": [
    "## Correlation analysis with feature engineering"
   ]
  },
  {
   "cell_type": "code",
   "execution_count": 47,
   "id": "da3c3114",
   "metadata": {},
   "outputs": [],
   "source": [
    "# Import data \n",
    "df_electricity_demand=read_csv(\"../../data/intermediate_data/electricity_demand.csv\")\n",
    "\n",
    "# Drop not needed columns\n",
    "df_electricity_demand=drop_columns(df_electricity_demand,'Unnamed: 0')\n",
    "\n",
    "# Change time format\n",
    "df_electricity_demand['Time']=date_format(df_electricity_demand['Time'],\"%Y-%m-%d %H:%M:%S\")\n",
    "# Include feature engineering\n",
    "df_electricity_demand=craft_features(df_electricity_demand)\n",
    "# Drop not needed columns\n",
    "df_electricity_demand=drop_columns(df_electricity_demand,'Time')"
   ]
  },
  {
   "cell_type": "code",
   "execution_count": 55,
   "id": "bfb7a967",
   "metadata": {},
   "outputs": [
    {
     "data": {
      "text/plain": [
       "Demand_MWh               1.000000\n",
       "Hour                     0.396758\n",
       "Week_day_category        0.389855\n",
       "Temp_K_SD5               0.274142\n",
       "Temp_K_SD3               0.248060\n",
       "Temp_K_SD12              0.216726\n",
       "Week_day_category_p24    0.211502\n",
       "Bank_Holiday_Weight      0.145053\n",
       "Population               0.113872\n",
       "Temp_K_p48               0.111785\n",
       "Name: Demand_MWh, dtype: float64"
      ]
     },
     "execution_count": 55,
     "metadata": {},
     "output_type": "execute_result"
    }
   ],
   "source": [
    "\n",
    "# Create a correlation matrix\n",
    "corr_matrix = df_electricity_demand.corr()\n",
    "corr_matrix =corr_matrix['Demand_MWh'].abs().sort_values(ascending=False)[:10]\n",
    "corr_matrix"
   ]
  },
  {
   "cell_type": "markdown",
   "id": "1a8d3f33",
   "metadata": {},
   "source": [
    "## Analysis"
   ]
  },
  {
   "cell_type": "code",
   "execution_count": 58,
   "id": "af3fb4be",
   "metadata": {},
   "outputs": [],
   "source": [
    "df_final_results=read_csv(\"../../data/final_results/final_results.csv\")\n",
    "df_final_results=drop_columns(df_final_results,'Unnamed: 0')\n",
    "# Change time format\n",
    "df_final_results['Time']=date_format(df_final_results['Time'],\"%Y-%m-%d %H:%M:%S\")"
   ]
  },
  {
   "cell_type": "code",
   "execution_count": 60,
   "id": "cd5b0a56",
   "metadata": {},
   "outputs": [
    {
     "data": {
      "text/html": [
       "<div>\n",
       "<style scoped>\n",
       "    .dataframe tbody tr th:only-of-type {\n",
       "        vertical-align: middle;\n",
       "    }\n",
       "\n",
       "    .dataframe tbody tr th {\n",
       "        vertical-align: top;\n",
       "    }\n",
       "\n",
       "    .dataframe thead th {\n",
       "        text-align: right;\n",
       "    }\n",
       "</style>\n",
       "<table border=\"1\" class=\"dataframe\">\n",
       "  <thead>\n",
       "    <tr style=\"text-align: right;\">\n",
       "      <th></th>\n",
       "      <th>Time</th>\n",
       "      <th>Forecast</th>\n",
       "      <th>Demand_MWh</th>\n",
       "      <th>Error_dif</th>\n",
       "    </tr>\n",
       "  </thead>\n",
       "  <tbody>\n",
       "    <tr>\n",
       "      <th>0</th>\n",
       "      <td>2016-01-01 00:00:00</td>\n",
       "      <td>25062.693359</td>\n",
       "      <td>21745.1667</td>\n",
       "      <td>-3317.526659</td>\n",
       "    </tr>\n",
       "    <tr>\n",
       "      <th>1</th>\n",
       "      <td>2016-01-01 01:00:00</td>\n",
       "      <td>24121.230469</td>\n",
       "      <td>20483.3333</td>\n",
       "      <td>-3637.897169</td>\n",
       "    </tr>\n",
       "    <tr>\n",
       "      <th>2</th>\n",
       "      <td>2016-01-01 02:00:00</td>\n",
       "      <td>23386.531250</td>\n",
       "      <td>19246.3333</td>\n",
       "      <td>-4140.197950</td>\n",
       "    </tr>\n",
       "    <tr>\n",
       "      <th>3</th>\n",
       "      <td>2016-01-01 03:00:00</td>\n",
       "      <td>23309.117188</td>\n",
       "      <td>18358.1667</td>\n",
       "      <td>-4950.950487</td>\n",
       "    </tr>\n",
       "    <tr>\n",
       "      <th>4</th>\n",
       "      <td>2016-01-01 04:00:00</td>\n",
       "      <td>23469.003906</td>\n",
       "      <td>18057.3333</td>\n",
       "      <td>-5411.670606</td>\n",
       "    </tr>\n",
       "    <tr>\n",
       "      <th>...</th>\n",
       "      <td>...</td>\n",
       "      <td>...</td>\n",
       "      <td>...</td>\n",
       "      <td>...</td>\n",
       "    </tr>\n",
       "    <tr>\n",
       "      <th>51628</th>\n",
       "      <td>2021-12-30 18:00:00</td>\n",
       "      <td>33791.500000</td>\n",
       "      <td>29660.1667</td>\n",
       "      <td>-4131.333300</td>\n",
       "    </tr>\n",
       "    <tr>\n",
       "      <th>51629</th>\n",
       "      <td>2021-12-30 19:00:00</td>\n",
       "      <td>33749.691406</td>\n",
       "      <td>29943.5000</td>\n",
       "      <td>-3806.191406</td>\n",
       "    </tr>\n",
       "    <tr>\n",
       "      <th>51630</th>\n",
       "      <td>2021-12-30 20:00:00</td>\n",
       "      <td>32584.113281</td>\n",
       "      <td>29586.1667</td>\n",
       "      <td>-2997.946581</td>\n",
       "    </tr>\n",
       "    <tr>\n",
       "      <th>51631</th>\n",
       "      <td>2021-12-30 21:00:00</td>\n",
       "      <td>30572.558594</td>\n",
       "      <td>27541.1667</td>\n",
       "      <td>-3031.391894</td>\n",
       "    </tr>\n",
       "    <tr>\n",
       "      <th>51632</th>\n",
       "      <td>2021-12-30 22:00:00</td>\n",
       "      <td>27826.707031</td>\n",
       "      <td>24983.1667</td>\n",
       "      <td>-2843.540331</td>\n",
       "    </tr>\n",
       "  </tbody>\n",
       "</table>\n",
       "<p>51633 rows × 4 columns</p>\n",
       "</div>"
      ],
      "text/plain": [
       "                     Time      Forecast  Demand_MWh    Error_dif\n",
       "0     2016-01-01 00:00:00  25062.693359  21745.1667 -3317.526659\n",
       "1     2016-01-01 01:00:00  24121.230469  20483.3333 -3637.897169\n",
       "2     2016-01-01 02:00:00  23386.531250  19246.3333 -4140.197950\n",
       "3     2016-01-01 03:00:00  23309.117188  18358.1667 -4950.950487\n",
       "4     2016-01-01 04:00:00  23469.003906  18057.3333 -5411.670606\n",
       "...                   ...           ...         ...          ...\n",
       "51628 2021-12-30 18:00:00  33791.500000  29660.1667 -4131.333300\n",
       "51629 2021-12-30 19:00:00  33749.691406  29943.5000 -3806.191406\n",
       "51630 2021-12-30 20:00:00  32584.113281  29586.1667 -2997.946581\n",
       "51631 2021-12-30 21:00:00  30572.558594  27541.1667 -3031.391894\n",
       "51632 2021-12-30 22:00:00  27826.707031  24983.1667 -2843.540331\n",
       "\n",
       "[51633 rows x 4 columns]"
      ]
     },
     "execution_count": 60,
     "metadata": {},
     "output_type": "execute_result"
    }
   ],
   "source": [
    "df_final_results['Error_dif']=df_final_results['Demand_MWh']-df_final_results['Forecast']\n",
    "df_final_results['Error_dif']=df_final_results['Demand_MWh']-df_final_results['Forecast']\n",
    "df_final_results"
   ]
  },
  {
   "cell_type": "code",
   "execution_count": 78,
   "id": "946fbc64",
   "metadata": {},
   "outputs": [
    {
     "data": {
      "image/png": "[encoded data removed]",
      "text/plain": [
       "<Figure size 1080x576 with 1 Axes>"
      ]
     },
     "metadata": {
      "needs_background": "light"
     },
     "output_type": "display_data"
    }
   ],
   "source": [
    "fig_dims = (15, 8)\n",
    "fig, ax = plt.subplots(figsize=fig_dims)\n",
    "sns.lineplot( x='Time', y='Error_dif',  data=df_final_results, legend=False)\n",
    "plt.tight_layout()\n",
    "plt.show()"
   ]
  },
  {
   "cell_type": "code",
   "execution_count": 82,
   "id": "f8dacde4",
   "metadata": {},
   "outputs": [],
   "source": [
    "rmse_val = mean_squared_error(df_final_results['Demand_MWh'], df_final_results['Forecast'])**0.5\n",
    "mae_val=mean_absolute_error(df_final_results['Demand_MWh'], df_final_results['Forecast'])\n",
    "mae_normalized=mae_val/df_final_results['Demand_MWh'].mean()*100"
   ]
  },
  {
   "cell_type": "code",
   "execution_count": 83,
   "id": "8c1fc99f",
   "metadata": {},
   "outputs": [
    {
     "name": "stdout",
     "output_type": "stream",
     "text": [
      "rmse:  1347.4843821703835\n",
      "mae:  994.5888213500208\n",
      "mae normalized:  3.5087926864852967  %\n"
     ]
    }
   ],
   "source": [
    "print('rmse: ',rmse_val)\n",
    "print('mae: ',mae_val)\n",
    "print('mae normalized: ',mae_normalized, ' %')"
   ]
  }
 ],
 "metadata": {
  "kernelspec": {
   "display_name": "Python [conda env:final-project]",
   "language": "python",
   "name": "conda-env-final-project-py"
  },
  "language_info": {
   "codemirror_mode": {
    "name": "ipython",
    "version": 3
   },
   "file_extension": ".py",
   "mimetype": "text/x-python",
   "name": "python",
   "nbconvert_exporter": "python",
   "pygments_lexer": "ipython3",
   "version": "3.7.11"
  }
 },
 "nbformat": 4,
 "nbformat_minor": 5
}
