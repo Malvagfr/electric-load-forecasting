{
 "cells": [
  {
   "cell_type": "markdown",
   "id": "e68cf2d9",
   "metadata": {},
   "source": [
    "# Spain Population by region and year"
   ]
  },
  {
   "cell_type": "markdown",
   "id": "eca4d82d",
   "metadata": {},
   "source": [
    "Information coming from INE (https://www.ine.es/jaxiT3/Datos.htm?t=2915)"
   ]
  },
  {
   "cell_type": "markdown",
   "id": "e1df74de",
   "metadata": {},
   "source": [
    "## Libraries import"
   ]
  },
  {
   "cell_type": "code",
   "execution_count": 1,
   "id": "9a2f2725",
   "metadata": {},
   "outputs": [],
   "source": [
    "# Ignore warnings\n",
    "import warnings\n",
    "warnings.filterwarnings('ignore')\n",
    "\n",
    "# Imports\n",
    "import pandas as pd"
   ]
  },
  {
   "cell_type": "markdown",
   "id": "96a754f5",
   "metadata": {},
   "source": [
    "## Functions definition"
   ]
  },
  {
   "cell_type": "code",
   "execution_count": 2,
   "id": "0c2d4549",
   "metadata": {},
   "outputs": [],
   "source": [
    "# Read csv\n",
    "def read_csv(path,sep_value,encoding_value):\n",
    "    return pd.read_csv(path,sep=sep_value,encoding=encoding_value)"
   ]
  },
  {
   "cell_type": "code",
   "execution_count": 3,
   "id": "b103da1d",
   "metadata": {},
   "outputs": [],
   "source": [
    "# Send data to csv\n",
    "def send_to_csv(df,path):\n",
    "    return df.to_csv(path)"
   ]
  },
  {
   "cell_type": "code",
   "execution_count": 4,
   "id": "5c796c7e",
   "metadata": {},
   "outputs": [],
   "source": [
    "# Row filter\n",
    "def row_filter_limits(df, column,low_limit,high_limit):\n",
    "    return df[(df[column]>=low_limit)&(df[column]<=high_limit)]"
   ]
  },
  {
   "cell_type": "code",
   "execution_count": 5,
   "id": "9fa9e4e1",
   "metadata": {},
   "outputs": [],
   "source": [
    "# Drop columns\n",
    "def drop_columns(df,columns):\n",
    "    return df.drop(columns, 1) "
   ]
  },
  {
   "cell_type": "code",
   "execution_count": 6,
   "id": "b3f04b10",
   "metadata": {},
   "outputs": [],
   "source": [
    "# Replace values\n",
    "def replace_values(df,column,old_value,new_value):\n",
    "    return df[column].replace([old_value],[new_value])    "
   ]
  },
  {
   "cell_type": "code",
   "execution_count": 7,
   "id": "92bc6f3d",
   "metadata": {},
   "outputs": [],
   "source": [
    "# Exclude \n",
    "def exclude(df,column,to_exclude):\n",
    "    return df[~df[column].isin(to_exclude)]"
   ]
  },
  {
   "cell_type": "markdown",
   "id": "6ef12ce4",
   "metadata": {},
   "source": [
    "## Data import"
   ]
  },
  {
   "cell_type": "code",
   "execution_count": 9,
   "id": "12cd3cab",
   "metadata": {},
   "outputs": [
    {
     "data": {
      "text/html": [
       "<div>\n",
       "<style scoped>\n",
       "    .dataframe tbody tr th:only-of-type {\n",
       "        vertical-align: middle;\n",
       "    }\n",
       "\n",
       "    .dataframe tbody tr th {\n",
       "        vertical-align: top;\n",
       "    }\n",
       "\n",
       "    .dataframe thead th {\n",
       "        text-align: right;\n",
       "    }\n",
       "</style>\n",
       "<table border=\"1\" class=\"dataframe\">\n",
       "  <thead>\n",
       "    <tr style=\"text-align: right;\">\n",
       "      <th></th>\n",
       "      <th>Region</th>\n",
       "      <th>Year</th>\n",
       "      <th>Population</th>\n",
       "    </tr>\n",
       "  </thead>\n",
       "  <tbody>\n",
       "    <tr>\n",
       "      <th>26</th>\n",
       "      <td>Andalucía</td>\n",
       "      <td>2021</td>\n",
       "      <td>8472407.0</td>\n",
       "    </tr>\n",
       "    <tr>\n",
       "      <th>27</th>\n",
       "      <td>Andalucía</td>\n",
       "      <td>2020</td>\n",
       "      <td>8464411.0</td>\n",
       "    </tr>\n",
       "    <tr>\n",
       "      <th>28</th>\n",
       "      <td>Andalucía</td>\n",
       "      <td>2019</td>\n",
       "      <td>8414240.0</td>\n",
       "    </tr>\n",
       "    <tr>\n",
       "      <th>29</th>\n",
       "      <td>Andalucía</td>\n",
       "      <td>2018</td>\n",
       "      <td>8384408.0</td>\n",
       "    </tr>\n",
       "    <tr>\n",
       "      <th>30</th>\n",
       "      <td>Andalucía</td>\n",
       "      <td>2017</td>\n",
       "      <td>8379820.0</td>\n",
       "    </tr>\n",
       "    <tr>\n",
       "      <th>...</th>\n",
       "      <td>...</td>\n",
       "      <td>...</td>\n",
       "      <td>...</td>\n",
       "    </tr>\n",
       "    <tr>\n",
       "      <th>444</th>\n",
       "      <td>La Rioja</td>\n",
       "      <td>2019</td>\n",
       "      <td>316798.0</td>\n",
       "    </tr>\n",
       "    <tr>\n",
       "      <th>445</th>\n",
       "      <td>La Rioja</td>\n",
       "      <td>2018</td>\n",
       "      <td>315675.0</td>\n",
       "    </tr>\n",
       "    <tr>\n",
       "      <th>446</th>\n",
       "      <td>La Rioja</td>\n",
       "      <td>2017</td>\n",
       "      <td>315381.0</td>\n",
       "    </tr>\n",
       "    <tr>\n",
       "      <th>447</th>\n",
       "      <td>La Rioja</td>\n",
       "      <td>2016</td>\n",
       "      <td>315794.0</td>\n",
       "    </tr>\n",
       "    <tr>\n",
       "      <th>448</th>\n",
       "      <td>La Rioja</td>\n",
       "      <td>2015</td>\n",
       "      <td>317053.0</td>\n",
       "    </tr>\n",
       "  </tbody>\n",
       "</table>\n",
       "<p>105 rows × 3 columns</p>\n",
       "</div>"
      ],
      "text/plain": [
       "        Region  Year  Population\n",
       "26   Andalucía  2021   8472407.0\n",
       "27   Andalucía  2020   8464411.0\n",
       "28   Andalucía  2019   8414240.0\n",
       "29   Andalucía  2018   8384408.0\n",
       "30   Andalucía  2017   8379820.0\n",
       "..         ...   ...         ...\n",
       "444   La Rioja  2019    316798.0\n",
       "445   La Rioja  2018    315675.0\n",
       "446   La Rioja  2017    315381.0\n",
       "447   La Rioja  2016    315794.0\n",
       "448   La Rioja  2015    317053.0\n",
       "\n",
       "[105 rows x 3 columns]"
      ]
     },
     "execution_count": 9,
     "metadata": {},
     "output_type": "execute_result"
    }
   ],
   "source": [
    "# Import dataframe\n",
    "df_population=read_csv('../../data/SOTs/population/population.csv',';','latin-1')\n",
    "\n",
    "# Filter period\n",
    "df_population=row_filter_limits(df_population, 'Periodo',2015,2021)\n",
    "\n",
    "# Simplify names\n",
    "df_population['Comunidades y Ciudades Autónomas']=df_population['Comunidades y Ciudades Autónomas'].str[3:]\n",
    "\n",
    "df_population['Comunidades y Ciudades Autónomas'] = \\\n",
    "replace_values(df_population,'Comunidades y Ciudades Autónomas','al','Total')\n",
    "df_population['Comunidades y Ciudades Autónomas'] = \\\n",
    "replace_values(df_population,'Comunidades y Ciudades Autónomas','Asturias, Principado de','Asturias')\n",
    "df_population['Comunidades y Ciudades Autónomas'] = \\\n",
    "replace_values(df_population,'Comunidades y Ciudades Autónomas','Castilla - La Mancha','Castilla-La Mancha')\n",
    "df_population['Comunidades y Ciudades Autónomas'] = \\\n",
    "replace_values(df_population,'Comunidades y Ciudades Autónomas','Comunitat Valenciana','Comunidad Valenciana')\n",
    "df_population['Comunidades y Ciudades Autónomas'] = \\\n",
    "replace_values(df_population,'Comunidades y Ciudades Autónomas','Madrid, Comunidad de','Madrid')\n",
    "df_population['Comunidades y Ciudades Autónomas'] = \\\n",
    "replace_values(df_population,'Comunidades y Ciudades Autónomas','Murcia, Región de','Murcia')\n",
    "df_population['Comunidades y Ciudades Autónomas'] = \\\n",
    "replace_values(df_population,'Comunidades y Ciudades Autónomas','Navarra, Comunidad Foral de','Navarra')\n",
    "df_population['Comunidades y Ciudades Autónomas'] = \\\n",
    "replace_values(df_population,'Comunidades y Ciudades Autónomas','Rioja, La','La Rioja')\n",
    "\n",
    "# Exclude not needed regions\n",
    "df_population=exclude(df_population,'Comunidades y Ciudades Autónomas',\n",
    "                      ['Total','Balears, Illes','Canarias','Ceuta','Melilla'])\n",
    "\n",
    "# Rename columns\n",
    "df_population.rename(columns={'Comunidades y Ciudades Autónomas': 'Region', \n",
    "                               'Periodo': 'Year', 'Total': 'Population'}, inplace=True)\n",
    "\n",
    "# Remove columns\n",
    "df_population=drop_columns(df_population,'Tamaño de los municipios')\n",
    "\n",
    "# Change data types\n",
    "df_population['Population']=df_population['Population'].str.replace('.', '').astype(float)\n",
    "\n",
    "# Send data to csv\n",
    "send_to_csv(df_population,\"../../data/raw_data/population.csv\")\n",
    "\n",
    "# Print info\n",
    "df_population"
   ]
  }
 ],
 "metadata": {
  "kernelspec": {
   "display_name": "Python [conda env:final_project]",
   "language": "python",
   "name": "conda-env-final_project-py"
  },
  "language_info": {
   "codemirror_mode": {
    "name": "ipython",
    "version": 3
   },
   "file_extension": ".py",
   "mimetype": "text/x-python",
   "name": "python",
   "nbconvert_exporter": "python",
   "pygments_lexer": "ipython3",
   "version": "3.7.13"
  }
 },
 "nbformat": 4,
 "nbformat_minor": 5
}
