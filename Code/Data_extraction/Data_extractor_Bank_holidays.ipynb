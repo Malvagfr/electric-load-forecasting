{
 "cells": [
  {
   "cell_type": "markdown",
   "id": "1a42544b",
   "metadata": {},
   "source": [
    "# Bank holidays by region and year"
   ]
  },
  {
   "cell_type": "markdown",
   "id": "8939e501",
   "metadata": {},
   "source": [
    "Information coming from public source: \n",
    "\n",
    "https://administracion.gob.es/pag_Home/atencionCiudadana/calendarios/diasInhabiles.html#-b95725c1af8d"
   ]
  },
  {
   "cell_type": "markdown",
   "id": "7d27b3e7",
   "metadata": {},
   "source": [
    "## Libraries import"
   ]
  },
  {
   "cell_type": "code",
   "execution_count": 25,
   "id": "0b7e8b34",
   "metadata": {},
   "outputs": [],
   "source": [
    "# Ignore warnings\n",
    "import warnings\n",
    "warnings.filterwarnings('ignore')\n",
    "\n",
    "# Imports\n",
    "import pandas as pd"
   ]
  },
  {
   "cell_type": "markdown",
   "id": "b594cd41",
   "metadata": {},
   "source": [
    "## Functions definition"
   ]
  },
  {
   "cell_type": "code",
   "execution_count": 26,
   "id": "172be083",
   "metadata": {},
   "outputs": [],
   "source": [
    "# Read csv\n",
    "def read_csv(path,sep_value,encoding_value):\n",
    "    return pd.read_csv(path,sep=sep_value,encoding=encoding_value)"
   ]
  },
  {
   "cell_type": "code",
   "execution_count": 27,
   "id": "381a8123",
   "metadata": {},
   "outputs": [],
   "source": [
    "# Row filter\n",
    "def row_filter_limits(df, column,low_limit,high_limit):\n",
    "    return df[(df[column]>=low_limit)&(df[column]<=high_limit)]"
   ]
  },
  {
   "cell_type": "code",
   "execution_count": 28,
   "id": "d20d790d",
   "metadata": {},
   "outputs": [],
   "source": [
    "# Send data to csv\n",
    "def send_to_csv(df,path):\n",
    "    return df.to_csv(path)"
   ]
  },
  {
   "cell_type": "markdown",
   "id": "bd8c2b84",
   "metadata": {},
   "source": [
    "## Data import"
   ]
  },
  {
   "cell_type": "code",
   "execution_count": 29,
   "id": "5c36fe46",
   "metadata": {},
   "outputs": [
    {
     "data": {
      "text/html": [
       "<div>\n",
       "<style scoped>\n",
       "    .dataframe tbody tr th:only-of-type {\n",
       "        vertical-align: middle;\n",
       "    }\n",
       "\n",
       "    .dataframe tbody tr th {\n",
       "        vertical-align: top;\n",
       "    }\n",
       "\n",
       "    .dataframe thead th {\n",
       "        text-align: right;\n",
       "    }\n",
       "</style>\n",
       "<table border=\"1\" class=\"dataframe\">\n",
       "  <thead>\n",
       "    <tr style=\"text-align: right;\">\n",
       "      <th></th>\n",
       "      <th>Date</th>\n",
       "      <th>Year</th>\n",
       "      <th>Month</th>\n",
       "      <th>Day</th>\n",
       "      <th>Region</th>\n",
       "    </tr>\n",
       "  </thead>\n",
       "  <tbody>\n",
       "    <tr>\n",
       "      <th>0</th>\n",
       "      <td>2015-01-01</td>\n",
       "      <td>2015</td>\n",
       "      <td>1</td>\n",
       "      <td>1</td>\n",
       "      <td>Nacional</td>\n",
       "    </tr>\n",
       "    <tr>\n",
       "      <th>1</th>\n",
       "      <td>2015-01-06</td>\n",
       "      <td>2015</td>\n",
       "      <td>1</td>\n",
       "      <td>6</td>\n",
       "      <td>Nacional</td>\n",
       "    </tr>\n",
       "    <tr>\n",
       "      <th>2</th>\n",
       "      <td>2015-02-28</td>\n",
       "      <td>2015</td>\n",
       "      <td>2</td>\n",
       "      <td>28</td>\n",
       "      <td>Andalucía</td>\n",
       "    </tr>\n",
       "    <tr>\n",
       "      <th>3</th>\n",
       "      <td>2015-03-19</td>\n",
       "      <td>2015</td>\n",
       "      <td>3</td>\n",
       "      <td>19</td>\n",
       "      <td>Comunidad Valenciana</td>\n",
       "    </tr>\n",
       "    <tr>\n",
       "      <th>4</th>\n",
       "      <td>2015-03-19</td>\n",
       "      <td>2015</td>\n",
       "      <td>3</td>\n",
       "      <td>19</td>\n",
       "      <td>Madrid</td>\n",
       "    </tr>\n",
       "    <tr>\n",
       "      <th>...</th>\n",
       "      <td>...</td>\n",
       "      <td>...</td>\n",
       "      <td>...</td>\n",
       "      <td>...</td>\n",
       "      <td>...</td>\n",
       "    </tr>\n",
       "    <tr>\n",
       "      <th>399</th>\n",
       "      <td>2021-10-09</td>\n",
       "      <td>2021</td>\n",
       "      <td>10</td>\n",
       "      <td>9</td>\n",
       "      <td>Comunidad Valenciana</td>\n",
       "    </tr>\n",
       "    <tr>\n",
       "      <th>400</th>\n",
       "      <td>2021-10-12</td>\n",
       "      <td>2021</td>\n",
       "      <td>10</td>\n",
       "      <td>12</td>\n",
       "      <td>Nacional</td>\n",
       "    </tr>\n",
       "    <tr>\n",
       "      <th>401</th>\n",
       "      <td>2021-11-01</td>\n",
       "      <td>2021</td>\n",
       "      <td>11</td>\n",
       "      <td>1</td>\n",
       "      <td>Nacional</td>\n",
       "    </tr>\n",
       "    <tr>\n",
       "      <th>402</th>\n",
       "      <td>2021-12-06</td>\n",
       "      <td>2021</td>\n",
       "      <td>12</td>\n",
       "      <td>6</td>\n",
       "      <td>Nacional</td>\n",
       "    </tr>\n",
       "    <tr>\n",
       "      <th>403</th>\n",
       "      <td>2021-12-08</td>\n",
       "      <td>2021</td>\n",
       "      <td>12</td>\n",
       "      <td>8</td>\n",
       "      <td>Nacional</td>\n",
       "    </tr>\n",
       "  </tbody>\n",
       "</table>\n",
       "<p>403 rows × 5 columns</p>\n",
       "</div>"
      ],
      "text/plain": [
       "          Date  Year  Month  Day                Region\n",
       "0   2015-01-01  2015      1    1              Nacional\n",
       "1   2015-01-06  2015      1    6              Nacional\n",
       "2   2015-02-28  2015      2   28             Andalucía\n",
       "3   2015-03-19  2015      3   19  Comunidad Valenciana\n",
       "4   2015-03-19  2015      3   19                Madrid\n",
       "..         ...   ...    ...  ...                   ...\n",
       "399 2021-10-09  2021     10    9  Comunidad Valenciana\n",
       "400 2021-10-12  2021     10   12              Nacional\n",
       "401 2021-11-01  2021     11    1              Nacional\n",
       "402 2021-12-06  2021     12    6              Nacional\n",
       "403 2021-12-08  2021     12    8              Nacional\n",
       "\n",
       "[403 rows x 5 columns]"
      ]
     },
     "execution_count": 29,
     "metadata": {},
     "output_type": "execute_result"
    }
   ],
   "source": [
    "# Import dataframe\n",
    "df_bank_holidays=read_csv('../../Data/SOTs/Bank_Holidays/Bank_holidays.csv',',','utf-8')\n",
    "\n",
    "# Split time\n",
    "df_bank_holidays['Date']=pd.to_datetime(df_bank_holidays['Day'], format=\"%d/%m/%Y\")\n",
    "df_bank_holidays['Month']=df_bank_holidays['Date'].dt.month\n",
    "df_bank_holidays['Day']=df_bank_holidays['Date'].dt.day\n",
    "\n",
    "# Sort columns\n",
    "df_bank_holidays = df_bank_holidays[['Date', 'Year','Month', 'Day', 'Region']]\n",
    "\n",
    "# Time filter\n",
    "df_bank_holidays=row_filter_limits(df_bank_holidays, 'Year',2015,2021)\n",
    "\n",
    "# Remove not needed regions\n",
    "df_bank_holidays=df_bank_holidays[df_bank_holidays['Region']!='Baleares']\n",
    "\n",
    "# Send data to csv\n",
    "send_to_csv(df_bank_holidays,\"../../Data/Raw_Data/bank_holidays.csv\")\n",
    "\n",
    "# Print info\n",
    "df_bank_holidays"
   ]
  }
 ],
 "metadata": {
  "kernelspec": {
   "display_name": "Python [conda env:final-project]",
   "language": "python",
   "name": "conda-env-final-project-py"
  },
  "language_info": {
   "codemirror_mode": {
    "name": "ipython",
    "version": 3
   },
   "file_extension": ".py",
   "mimetype": "text/x-python",
   "name": "python",
   "nbconvert_exporter": "python",
   "pygments_lexer": "ipython3",
   "version": "3.7.11"
  }
 },
 "nbformat": 4,
 "nbformat_minor": 5
}
